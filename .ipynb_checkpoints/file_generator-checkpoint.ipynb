{
 "cells": [
  {
   "cell_type": "code",
   "execution_count": 1,
   "metadata": {},
   "outputs": [],
   "source": [
    "import os\n",
    "import numpy as np\n",
    "import hashlib"
   ]
  },
  {
   "cell_type": "code",
   "execution_count": 2,
   "metadata": {},
   "outputs": [],
   "source": [
    "def write_files(f_path, f_name, f_iter, f_size):\n",
    "    for i in range(f_iter):\n",
    "        b = bytearray(os.urandom(f_size))\n",
    "        f = open(os.path.join(f_path,f_name+str(i+1)), 'wb')\n",
    "        print(os.path.join(f_path,f_name+str(i+1)))\n",
    "        f.write(b)"
   ]
  },
  {
   "cell_type": "code",
   "execution_count": 3,
   "metadata": {},
   "outputs": [],
   "source": [
    "def read_files(f_path, f_name):\n",
    "    f = open(os.path.join(f_path, f_name), 'rb').read()\n",
    "    md5 = hashlib.md5(f).hexdigest()\n",
    "    print(f_name,\" \",md5)"
   ]
  },
  {
   "cell_type": "code",
   "execution_count": 4,
   "metadata": {},
   "outputs": [],
   "source": [
    "def list_directory(f_path, f_name):\n",
    "    files = []\n",
    "    for root, directories, f in os.walk(f_path):\n",
    "        for file in f:\n",
    "            if f_name in file:\n",
    "                files.append(file)\n",
    "    print(len(files),\"file/s found with name \", f_name)\n",
    "    return files"
   ]
  },
  {
   "cell_type": "code",
   "execution_count": 5,
   "metadata": {},
   "outputs": [],
   "source": [
    "def main():   \n",
    "    value = 0\n",
    "    while value!= 3:\n",
    "        if value == 0:\n",
    "            value = int(input(\"Please choose the option:\\n1.Write Files\\n2.Read Files\\n\"))\n",
    "        elif value == 1:\n",
    "            print(\"Writing n random files, please input the directory, file name, total files and file size\")\n",
    "            ok = 0\n",
    "            f_path = str(input(\"Enter the path of your directory:\"))\n",
    "            while ok == 0:\n",
    "                f_name = str(input(\"Enter the file name:\"))\n",
    "                if len(f_name)<5:\n",
    "                    ok = 0\n",
    "                    print(\"File name characters must be greater than 5\")\n",
    "                else:\n",
    "                    ok = 1\n",
    "                    f_size=int(input(\"Enter the file size:\"))\n",
    "                    f_iter=int(input(\"Enter the number of files:\"))\n",
    "                    write_files(f_path, f_name, f_iter, f_size)\n",
    "                    print(str(f_iter),\" random files were created with size \", f_size, \" each\")\n",
    "            value = 0\n",
    "        elif value == 2:\n",
    "            print(\"Reading file, please input the file directory, file name and md5 value for each file\")\n",
    "            f_path = str(input(\"Enter the path of your directory:\"))\n",
    "            f_name = str(input(\"Enter the file name:\"))\n",
    "            files = list_directory(f_path, f_name)\n",
    "            for x in files:\n",
    "                read_files(f_path, x)\n",
    "            value = 0\n",
    "        "
   ]
  },
  {
   "cell_type": "code",
   "execution_count": null,
   "metadata": {
    "scrolled": true
   },
   "outputs": [
    {
     "name": "stdout",
     "output_type": "stream",
     "text": [
      "Please choose the option:\n",
      "1.Write Files\n",
      "2.Read Files\n",
      "1\n",
      "Writing random files, please input the directory, file name, total files and file size\n",
      "Enter the path of your directory:/home/gabrielle/Documents/GSOC20\n",
      "Enter the file name:output_try\n",
      "Enter the file size:1048576\n",
      "Enter the number of files:10\n",
      "/home/gabrielle/Documents/GSOC20/output_try1\n",
      "/home/gabrielle/Documents/GSOC20/output_try2\n",
      "/home/gabrielle/Documents/GSOC20/output_try3\n",
      "/home/gabrielle/Documents/GSOC20/output_try4\n",
      "/home/gabrielle/Documents/GSOC20/output_try5\n",
      "/home/gabrielle/Documents/GSOC20/output_try6\n",
      "/home/gabrielle/Documents/GSOC20/output_try7\n",
      "/home/gabrielle/Documents/GSOC20/output_try8\n",
      "/home/gabrielle/Documents/GSOC20/output_try9\n",
      "/home/gabrielle/Documents/GSOC20/output_try10\n",
      "10  random files were created with size  1048576  each\n",
      "Please choose the option:\n",
      "1.Write Files\n",
      "2.Read Files\n",
      "2\n",
      "Reading file, please input the file directory, file name and md5 value for each file\n",
      "Enter the path of your directory:/home/gabrielle/Documents/GSOC20\n",
      "Enter the file name:output_try\n",
      "10 file/s found with name  output_try\n",
      "output_try1   d80c9606fe24831acc20b2321c535461\n",
      "output_try10   c9d5ee50376333ac49a496f265d027a1\n",
      "output_try8   df0a7d16ce7214b8b5880af854c572ad\n",
      "output_try3   6a9f417067f14c2308a1851e485b21f4\n",
      "output_try2   5e6c030ea39f9ab588aacb9cd55d04dc\n",
      "output_try6   43e896df68d3c502da874f4f34c07f12\n",
      "output_try9   2c4999034b7dd7842dbfefd33d627735\n",
      "output_try4   436dc0546564397abf32a3ad09e4c5de\n",
      "output_try7   917825179b0a53308a1aa981ea45b586\n",
      "output_try5   cab80e17d2a924b568144476fbf8a985\n"
     ]
    }
   ],
   "source": [
    "if __name__== '__main__':\n",
    "    main()"
   ]
  },
  {
   "cell_type": "code",
   "execution_count": null,
   "metadata": {},
   "outputs": [],
   "source": []
  }
 ],
 "metadata": {
  "kernelspec": {
   "display_name": "Python 3",
   "language": "python",
   "name": "python3"
  },
  "language_info": {
   "codemirror_mode": {
    "name": "ipython",
    "version": 3
   },
   "file_extension": ".py",
   "mimetype": "text/x-python",
   "name": "python",
   "nbconvert_exporter": "python",
   "pygments_lexer": "ipython3",
   "version": "3.6.9"
  }
 },
 "nbformat": 4,
 "nbformat_minor": 4
}
